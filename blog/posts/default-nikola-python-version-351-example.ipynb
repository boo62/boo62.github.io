{
 "cells": [
  {
   "cell_type": "markdown",
   "metadata": {
    "ein.tags": [
     "worksheet-0"
    ]
   },
   "source": [
    "An example"
   ]
  },
  {
   "cell_type": "code",
   "execution_count": 1,
   "metadata": {
    "autoscroll": "json-false",
    "collapsed": false,
    "ein.tags": [
     "worksheet-0"
    ]
   },
   "outputs": [
    {
     "ename": "SyntaxError",
     "evalue": "Missing parentheses in call to 'print' (<ipython-input-1-8d90ecae1fe0>, line 1)",
     "output_type": "error",
     "traceback": [
      "\u001b[1;36m  File \u001b[1;32m\"<ipython-input-1-8d90ecae1fe0>\"\u001b[1;36m, line \u001b[1;32m1\u001b[0m\n\u001b[1;33m    print \"hello\"\u001b[0m\n\u001b[1;37m                ^\u001b[0m\n\u001b[1;31mSyntaxError\u001b[0m\u001b[1;31m:\u001b[0m Missing parentheses in call to 'print'\n"
     ]
    }
   ],
   "source": [
    "print \"hello\""
   ]
  },
  {
   "cell_type": "code",
   "execution_count": 2,
   "metadata": {
    "autoscroll": "json-false",
    "collapsed": false,
    "ein.tags": [
     "worksheet-0"
    ]
   },
   "outputs": [
    {
     "name": "stdout",
     "output_type": "stream",
     "text": [
      "hello world\n"
     ]
    }
   ],
   "source": [
    "print(\"hello world\")"
   ]
  },
  {
   "cell_type": "markdown",
   "metadata": {
    "ein.tags": [
     "worksheet-0"
    ]
   },
   "source": [
    "## Installing kernels for ipython/jupyter notebook\n",
    "\n",
    "You can install a new ipykernel in a Python evnironment.\n",
    "\n",
    "```bash\n",
    "pyenv activate myenv\n",
    "pip install numpy\n",
    "pip install pandas\n",
    "pip install ipykernel\n",
    "```\n",
    "Then still in the environment\n",
    "\n",
    "```bash\n",
    "python -m ipykernel install --user --name myenv --display-name \"Python (myenv)\"\n",
    "```\n",
    "You should then be able to use this kernel in notebooks inside other\n",
    "environments. E.g. in your nikola blog.\n",
    "\n",
    "## Creating a new nikola ipynb blogpost\n",
    "\n",
    "```bash\n",
    "nikola new_post -f ipynb@KERNEL\n",
    "```\n",
    "\n",
    "We would use ipynb@myenv to use the kernel created in the above example.\n",
    "If @KERNEL is missing then it defaults to the nikola Python version.\n",
    "\n",
    "## Editing ipython notebooks in Emacs\n",
    "\n",
    "To edit ipython notebooks in Emacs use package ein.\n",
    "\n",
    "- First start the server\n",
    "\n",
    "```bash\n",
    "jupyter notebook\n",
    "```\n",
    "\n",
    "- In Emacs\n",
    "\n",
    "```\n",
    "M-x ein:notebooklist-open\n",
    "```\n",
    "Then choose to open or create new\n",
    "+ These are a few usefull commands.\n",
    "  - Toggle cell type with C-c C-t\n",
    "  - Execute and move to next cell M-RET\n",
    "  - Execute cell C-c C-c"
   ]
  },
  {
   "cell_type": "code",
   "execution_count": 3,
   "metadata": {
    "autoscroll": "json-false",
    "collapsed": false,
    "ein.tags": [
     "worksheet-0"
    ]
   },
   "outputs": [
    {
     "name": "stdout",
     "output_type": "stream",
     "text": [
      "bye\n"
     ]
    }
   ],
   "source": [
    "print(\"bye\")"
   ]
  }
 ],
 "metadata": {
  "kernelspec": {
   "display_name": "Python 3",
   "name": "python3"
  },
  "name": "default-nikola-python-version-351-example.ipynb",
  "nikola": {
   "category": "",
   "date": "2016-03-25 20:42:17 UTC",
   "description": "",
   "link": "",
   "slug": "default-nikola-python-version-351-example",
   "tags": "",
   "title": "Default nikola python version (3.5.1) example",
   "type": "text"
  }
 },
 "nbformat": 4,
 "nbformat_minor": 0
}
